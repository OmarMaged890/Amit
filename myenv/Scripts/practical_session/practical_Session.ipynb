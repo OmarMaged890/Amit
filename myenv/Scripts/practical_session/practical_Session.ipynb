{
 "cells": [
  {
   "cell_type": "markdown",
   "metadata": {},
   "source": [
    "# Task 1.\n",
    "- Calculate Factorial using recursion"
   ]
  },
  {
   "cell_type": "code",
   "execution_count": 10,
   "metadata": {},
   "outputs": [
    {
     "name": "stdout",
     "output_type": "stream",
     "text": [
      "Factorial of 5 is: 120\n"
     ]
    }
   ],
   "source": [
    "# factorial class that takes a number and find factorial of it\n",
    "class Factorial_class:\n",
    "\n",
    "    def __init__(self, num):\n",
    "        self.num = num\n",
    "\n",
    "    def factorial_func(self,number):\n",
    "        if number == 0:\n",
    "            return 0\n",
    "        elif number == 1:\n",
    "            return 1\n",
    "        else:\n",
    "            return number * self.factorial_func(number - 1)\n",
    "\n",
    "    def output(self):\n",
    "        return self.factorial_func(self.num)\n",
    "      \n",
    "fractional_1 = Factorial_class(5)\n",
    "print(f\"Factorial of 5 is: {fractional_1.output()}\")"
   ]
  },
  {
   "cell_type": "markdown",
   "metadata": {},
   "source": [
    "# Task 2.\n",
    "- Write a function that takes a number and return True if this number is prime and False if not."
   ]
  },
  {
   "cell_type": "code",
   "execution_count": 19,
   "metadata": {},
   "outputs": [
    {
     "data": {
      "text/plain": [
       "True"
      ]
     },
     "execution_count": 19,
     "metadata": {},
     "output_type": "execute_result"
    }
   ],
   "source": [
    "class Prime_number:\n",
    "    def __init__(self, num):\n",
    "        self.num = num \n",
    "    \n",
    "    def Is_prime(self):\n",
    "        for i in range(2, self.num ):\n",
    "            if self.num % i == 0:\n",
    "                return False\n",
    "        return True  \n",
    "\n",
    "# Example usage\n",
    "prime = Prime_number(13)\n",
    "prime.Is_prime()"
   ]
  },
  {
   "cell_type": "markdown",
   "metadata": {},
   "source": [
    "# Task 3.\n",
    "- Write a function that takes two numbers and return a list of common dividors"
   ]
  },
  {
   "cell_type": "code",
   "execution_count": 27,
   "metadata": {},
   "outputs": [
    {
     "data": {
      "text/plain": [
       "[1, 2, 5, 10]"
      ]
     },
     "execution_count": 27,
     "metadata": {},
     "output_type": "execute_result"
    }
   ],
   "source": [
    "class Common_Dividors : \n",
    "    \n",
    "    def __init__(self,num1,num2,num3) : \n",
    "        self.num1 = num1\n",
    "        self.num2 = num2\n",
    "        self.num3 = num3\n",
    "        \n",
    "    def CommonDividor(self) : \n",
    "        Common_dividors = []\n",
    "        minimum = min(min(self.num1,self.num2),self.num3)\n",
    "        for i in range (1,minimum+1):\n",
    "            if self.num1 % i == 0 and self.num2 %i == 0 and self.num3 % i ==0 :\n",
    "                Common_dividors.append(i)\n",
    "                \n",
    "        return Common_dividors\n",
    "    \n",
    "common_1 = Common_Dividors(80,20,30)\n",
    "common_1.CommonDividor()"
   ]
  },
  {
   "cell_type": "markdown",
   "metadata": {},
   "source": [
    "# Task 4.\n",
    "- Given two strings, write a program that efficiently finds the longest common subsequence\n",
    "\n",
    "- **Ex:** str1 = \"Welcome to Machine Learning Diploma\" str2 = \"I am studying a Machine Learning Course\" --> Machine Learning"
   ]
  },
  {
   "cell_type": "code",
   "execution_count": 74,
   "metadata": {},
   "outputs": [],
   "source": [
    "class LongestString : \n",
    "    def __init__(self,str1,str2, longest_str):\n",
    "        self.str1 = str1\n",
    "        self.str2 = str2 \n",
    "        self.longest_str = longest_str\n",
    "        \n",
    "    def get_longest_str(self):\n",
    "        \n",
    "        for i in range(len(self.str1)):\n",
    "            for j in range(i, len(self.str1)):\n",
    "                sub_str = self.str1[i:j+1]\n",
    "                if sub_str in self.str2:\n",
    "                    if len(sub_str) > len(self.longest_str):\n",
    "                        self.longest_str = sub_str\n",
    "        return self.longest_str"
   ]
  },
  {
   "cell_type": "code",
   "execution_count": 75,
   "metadata": {},
   "outputs": [
    {
     "data": {
      "text/plain": [
       "' Machine Learning '"
      ]
     },
     "execution_count": 75,
     "metadata": {},
     "output_type": "execute_result"
    }
   ],
   "source": [
    "l_1 = LongestString( \"Welcome to Machine Learning Diploma\",\"I am studying a Machine Learning Course\",\"\")\n",
    "l_1.get_longest_str()\n"
   ]
  },
  {
   "cell_type": "markdown",
   "metadata": {},
   "source": [
    "# Task 5.\n",
    "- Write a function that will take a given string and reverse the order of words.\n",
    "\n",
    "- **Ex:** “Hello world” → ”world Hello”\n"
   ]
  },
  {
   "cell_type": "code",
   "execution_count": 89,
   "metadata": {},
   "outputs": [
    {
     "data": {
      "text/plain": [
       "'amit World Hello '"
      ]
     },
     "execution_count": 89,
     "metadata": {},
     "output_type": "execute_result"
    }
   ],
   "source": [
    "class Revese_word:\n",
    "    def __init__(self, string= \"Hello World amit\"):\n",
    "        self.string = string\n",
    "     \n",
    "    def fun(self):\n",
    "        lst = self.string.split(\" \")\n",
    "        new_lst = lst[::-1]\n",
    "        new_str = \"\"\n",
    "        \n",
    "        for i in new_lst:\n",
    "            new_str += i +\" \"\n",
    "        \n",
    "        return new_str\n",
    "    \n",
    "R = Revese_word()\n",
    "R.fun()"
   ]
  },
  {
   "cell_type": "markdown",
   "metadata": {},
   "source": [
    "- Another solution"
   ]
  },
  {
   "cell_type": "code",
   "execution_count": 91,
   "metadata": {},
   "outputs": [
    {
     "data": {
      "text/plain": [
       "'amit World Hello'"
      ]
     },
     "execution_count": 91,
     "metadata": {},
     "output_type": "execute_result"
    }
   ],
   "source": [
    "class Revese_word:\n",
    "    def __init__(self, string= \"Hello World amit\"):\n",
    "        self.string = string\n",
    "     \n",
    "    def fun(self):\n",
    "        lst = self.string.split(\" \")\n",
    "        new_lst = lst[::-1]\n",
    "        new_str = \" \".join(new_lst)\n",
    "        return new_str\n",
    "    \n",
    "R = Revese_word()\n",
    "R.fun()"
   ]
  },
  {
   "cell_type": "markdown",
   "metadata": {},
   "source": [
    "# Task 6.\n",
    "- Create a program that generates a random password of a given length.\n",
    "- Hint: use random module → import random → random.randrange"
   ]
  },
  {
   "cell_type": "code",
   "execution_count": 9,
   "metadata": {},
   "outputs": [
    {
     "data": {
      "text/plain": [
       "'1OvodIm*'"
      ]
     },
     "execution_count": 9,
     "metadata": {},
     "output_type": "execute_result"
    }
   ],
   "source": [
    "import random\n",
    "class Generate_password : \n",
    "    def __init__(self,length,characters):\n",
    "        self.characters =  characters\n",
    "        self.length = length \n",
    "    \n",
    "    def generate_password(self):\n",
    "        num_of_chars = len(self.characters)\n",
    "        password = \"\"\n",
    "        \n",
    "        for _ in range(self.length):\n",
    "            rand_indx = random.randrange(0, num_of_chars)\n",
    "            password += self.characters[rand_indx]\n",
    "        return password\n",
    "\n",
    "# Usage example\n",
    "password_length = 8\n",
    "characters= \"abcdefghijklmnopqrstuvwxyzABCDEFGHIJKLMNOPQRSTUVWXYZ1234567890!@#$%^&*\"\n",
    "random_password = Generate_password(password_length,characters)\n",
    "\n",
    "password = random_password.generate_password()\n",
    "password"
   ]
  },
  {
   "cell_type": "markdown",
   "metadata": {},
   "source": [
    "# Task 7.\n",
    "- Write a Python program to find all the unique words and count the frequency of occurrence from a given list of strings\n",
    "\n",
    "- **Ex:** [\"Welcome\", \"Ali\", \"Hi\", \"Ali\", \"No\", \"Hi\", \"No\", \"Ali\", \"No\", \"Ali\"]  → {'Ali': 4, 'Welcome': 1, 'No': 3, 'Hi': 2}"
   ]
  },
  {
   "cell_type": "code",
   "execution_count": 12,
   "metadata": {},
   "outputs": [
    {
     "data": {
      "text/plain": [
       "{'Welcome': 1, 'Ali': 4, 'Hi': 2, 'No': 3}"
      ]
     },
     "execution_count": 12,
     "metadata": {},
     "output_type": "execute_result"
    }
   ],
   "source": [
    "class Unique_words : \n",
    "    def __init__(self,words) :\n",
    "        self.words = words \n",
    "\n",
    "    def unique_words_func(self) :\n",
    "        self.set = set( self.words )\n",
    "        word_counts = dict()\n",
    "        for word in self.words : \n",
    "            word_counts[word] = self.words.count(word)\n",
    "            \n",
    "        return word_counts\n",
    "    \n",
    "# usage example : \n",
    "Lst_1 = [\"Welcome\", \"Ali\", \"Hi\", \"Ali\", \"No\", \"Hi\", \"No\", \"Ali\", \"No\", \"Ali\"]\n",
    "U_1 = Unique_words(Lst_1)\n",
    "U_1.unique_words_func()"
   ]
  },
  {
   "cell_type": "markdown",
   "metadata": {},
   "source": [
    "# Task 8.\n",
    "- Write a Python program to find all the unique words and count the frequency of occurrence from a text file and save the counts in a new file\n",
    "- This is the same as Task 7 but this time read words from a file\n",
    "- Hint: use replace function and split function"
   ]
  },
  {
   "cell_type": "markdown",
   "metadata": {},
   "source": [
    "## Task 9.\n",
    "- Implement a basic chatbot that can respond to user input with predefined responses"
   ]
  },
  {
   "cell_type": "code",
   "execution_count": 69,
   "metadata": {},
   "outputs": [
    {
     "name": "stdout",
     "output_type": "stream",
     "text": [
      "Chatbot: Hi! How can I assist you today?\n",
      "Chatbot: Hi there!\n",
      "Chatbot: I'm fine, how about you?\n",
      "Chatbot: Could you please rephrase that?\n",
      "Chatbot: See you later!\n"
     ]
    }
   ],
   "source": [
    "import random\n",
    "\n",
    "class CHATBOT :\n",
    "    def __init__(self, responses):\n",
    "        self.responses = responses\n",
    "\n",
    "    # Function to get a response based on user input\n",
    "    def get_response(self, user_input):\n",
    "        for key in self.responses:\n",
    "            if key in user_input:\n",
    "                return random.choice(self.responses[key])\n",
    "\n",
    "        return random.choice(self.responses[\"default\"])\n",
    "\n",
    "    # Chatbot function\n",
    "    def chatbot(self):\n",
    "        print(\"Chatbot: Hi! How can I assist you today?\")\n",
    "        while True:\n",
    "            self.user_input = input(\"User: \").lower()\n",
    "            response = self.get_response(self.user_input)\n",
    "            print(\"Chatbot:\", response)\n",
    "\n",
    "            if self.user_input == \"goodbye\":\n",
    "                break\n",
    "\n",
    "responses = {\n",
    "    \"hello\": [\"Hello!\", \"Hi there!\", \"Greetings!\"],\n",
    "    \"how are you\": [\"I'm doing well, thank you!\", \"I'm fine, how about you?\"],\n",
    "    \"goodbye\": [\"Goodbye!\", \"See you later!\", \"Farewell!\"],\n",
    "    \"default\": [\"I'm sorry, I didn't understand.\", \"Could you please rephrase that?\"]\n",
    "}\n",
    "\n",
    "chat_1 = CHATBOT(responses)\n",
    "chat_1.chatbot()"
   ]
  },
  {
   "cell_type": "markdown",
   "metadata": {},
   "source": [
    "# Task 10: Person class and child Student class\n",
    "Create a Python class Person with attributes: name and age.\n",
    "- Create a display() method that displays the name and age of an object created via the Person class.\n",
    "- Create a child class Student which inherits from the Person class and which also has an extra attribute called school.\n",
    "- Create a method displayStudent() that displays the name, age and section of an object created via the Student class.\n",
    "- Create a student object via an instantiation on the Student class and then test the displayStudent method"
   ]
  },
  {
   "cell_type": "code",
   "execution_count": 49,
   "metadata": {},
   "outputs": [
    {
     "name": "stdout",
     "output_type": "stream",
     "text": [
      "Name: omar \n",
      "Age: 22\n"
     ]
    }
   ],
   "source": [
    "class Person:\n",
    "    def __init__(self, name, age):\n",
    "        self.name = name\n",
    "        self.age = age\n",
    "\n",
    "    def display(self):\n",
    "        print(\"Name: {} \\nAge: {}\".format(self.name, self.age))\n",
    "# take information from user : \n",
    "name = input (\"enter your name : \") \n",
    "age = input (\"enter your age : \") \n",
    "# testing : \n",
    "p = Person(name, age)\n",
    "p.display()"
   ]
  },
  {
   "cell_type": "code",
   "execution_count": 52,
   "metadata": {},
   "outputs": [
    {
     "name": "stdout",
     "output_type": "stream",
     "text": [
      "Name: Amr \n",
      "Age: 15\n",
      "School: ABC School \n",
      "\n"
     ]
    }
   ],
   "source": [
    "class Child(Person):\n",
    "    def __init__(self, name, age, school):\n",
    "        super().__init__(name, age)\n",
    "        self.school = school\n",
    "\n",
    "    def displayStudent(self):\n",
    "        super().display()\n",
    "        print(\"School: {} \\n\".format(self.school))\n",
    "\n",
    "child1 = Child(\"Amr\", 15, \"ABC School\")\n",
    "child1.displayStudent()"
   ]
  },
  {
   "cell_type": "markdown",
   "metadata": {},
   "source": [
    "# Task 11: Rectangle class:\n",
    "- Write a Rectangle class in Python language, allowing you to build a rectangle with length and width attributes.\n",
    "- Create a Perimeter() method to calculate the perimeter of the rectangle and a Area() method to calculate the area of the rectangle.\n",
    "- Create a method display() that display the length, width, perimeter and area of an object created using an instantiation on rectangle class.\n",
    "- Create a Parallelepipede child class inheriting from the Rectangle class and with a height attribute and another Volume() method to calculate the volume of the Parallelepiped."
   ]
  },
  {
   "cell_type": "code",
   "execution_count": 59,
   "metadata": {},
   "outputs": [
    {
     "name": "stdout",
     "output_type": "stream",
     "text": [
      "Length: 30 \n",
      "Width: 20 \n",
      "Perimeter: 100 \n",
      "Area: 600\n"
     ]
    }
   ],
   "source": [
    "class Rectangle:\n",
    "    def __init__(self, length, width):\n",
    "        self.length = length\n",
    "        self.width = width\n",
    "\n",
    "    def perimeter(self):\n",
    "        rect_perimeter = (self.length + self.width) * 2\n",
    "        return rect_perimeter\n",
    "\n",
    "    def area(self):\n",
    "        rect_area =  self.width * self.length\n",
    "        return rect_area\n",
    "\n",
    "    def display(self):\n",
    "        area =  self.area()\n",
    "        perimeter = self.perimeter()\n",
    "\n",
    "        print(\"Length: {} \\nWidth: {} \\nPerimeter: {} \\nArea: {}\".format(self.length, self.width, perimeter, area))\n",
    "\n",
    "rect1 = Rectangle(30, 20)\n",
    "rect1.display()"
   ]
  },
  {
   "cell_type": "code",
   "execution_count": 70,
   "metadata": {},
   "outputs": [
    {
     "name": "stdout",
     "output_type": "stream",
     "text": [
      "Length: 20 \n",
      "Width: 30 \n",
      "Height: 10 \n",
      "Perimeter: No Perimeter \n",
      "Area: 2200 \n",
      "Volume: 6000\n"
     ]
    }
   ],
   "source": [
    "class Parallelepiped(Rectangle):\n",
    "    \n",
    "    def __init__(self, length, width, height):\n",
    "        super().__init__(length, width)\n",
    "        self.height = height\n",
    "\n",
    "    def perimeter(self):\n",
    "        return \"No Perimeter\"\n",
    "\n",
    "    def area(self):\n",
    "        paral_area = self.length * self.width *2 + self.length * self.height * 2 + self.width * self.height * 2\n",
    "        return paral_area\n",
    "\n",
    "    def volume(self):\n",
    "        vol = self.length * self.width * self.height\n",
    "        return vol\n",
    "\n",
    "\n",
    "    def display(self):\n",
    "        perimeter = self.perimeter()\n",
    "        area =  self.area()\n",
    "        volume = self.volume()\n",
    "\n",
    "        print(\"Length: {} \\nWidth: {} \\nHeight: {} \\nPerimeter: {} \\nArea: {} \\nVolume: {}\".format(self.length, self.width, self.height, perimeter, area, volume))\n",
    "\n",
    "paral1 = Parallelepiped(20, 30, 10)\n",
    "paral1.display()"
   ]
  }
 ],
 "metadata": {
  "kernelspec": {
   "display_name": "Python 3",
   "language": "python",
   "name": "python3"
  },
  "language_info": {
   "codemirror_mode": {
    "name": "ipython",
    "version": 3
   },
   "file_extension": ".py",
   "mimetype": "text/x-python",
   "name": "python",
   "nbconvert_exporter": "python",
   "pygments_lexer": "ipython3",
   "version": "3.12.7"
  }
 },
 "nbformat": 4,
 "nbformat_minor": 2
}
